{
 "cells": [
  {
   "cell_type": "code",
   "execution_count": 21,
   "metadata": {},
   "outputs": [],
   "source": [
    "import os\n",
    "\n",
    "# 遍历文件夹下的所有文件\n",
    "def list_files_in_directory(folder_path, suffix):\n",
    "    file_names = []\n",
    "    for filename in os.listdir(folder_path):\n",
    "        file_path = os.path.join(folder_path, filename)\n",
    "        if os.path.isfile(file_path):\n",
    "            if filename.endswith(suffix):\n",
    "                file_names.append(filename)\n",
    "    return file_names \n"
   ]
  },
  {
   "cell_type": "code",
   "execution_count": 22,
   "metadata": {},
   "outputs": [
    {
     "name": "stdout",
     "output_type": "stream",
     "text": [
      "文件夹 'tmp0_score' 创建成功！\n"
     ]
    }
   ],
   "source": [
    "\n",
    "import os\n",
    "\n",
    "# 定义要创建的文件夹路径\n",
    "new_folder_path = \"tmp0_score\"\n",
    "\n",
    "# 创建文件夹\n",
    "try:\n",
    "    os.makedirs(new_folder_path)  # 如果文件夹已存在，会引发异常\n",
    "    print(f\"文件夹 '{new_folder_path}' 创建成功！\")\n",
    "except FileExistsError:\n",
    "    print(f\"文件夹 '{new_folder_path}' 已存在。\")\n",
    "except Exception as e:\n",
    "    print(f\"创建文件夹时出错: {e}\")"
   ]
  },
  {
   "cell_type": "code",
   "execution_count": 23,
   "metadata": {},
   "outputs": [
    {
     "name": "stdout",
     "output_type": "stream",
     "text": [
      "stdout: \n",
      "stderr: \n",
      "stdout: \n",
      "stderr: \n",
      "stdout: \n",
      "stderr: \n",
      "stdout: \n",
      "stderr: \n",
      "stdout: \n",
      "stderr: \n",
      "stdout: \n",
      "stderr: \n",
      "stdout: \n",
      "stderr: \n",
      "stdout: \n",
      "stderr: \n",
      "stdout: \n",
      "stderr: \n",
      "stdout: \n",
      "stderr: \n",
      "stdout: \n",
      "stderr: \n",
      "stdout: \n",
      "stderr: \n",
      "stdout: \n",
      "stderr: \n",
      "stdout: \n",
      "stderr: \n",
      "stdout: \n",
      "stderr: \n",
      "stdout: \n",
      "stderr: \n",
      "stdout: \n",
      "stderr: \n"
     ]
    }
   ],
   "source": [
    "import subprocess\n",
    "\n",
    "# 启动 Jupyter Lab\n",
    "ref_file_path = './new_input/'\n",
    "pre_file_path = './output_tmp_0_res/'\n",
    "file_names = list_files_in_directory(pre_file_path, 'jsonl')\n",
    "for file_name in file_names:\n",
    "    result = subprocess.run(['python', 'score.py', ref_file_path + file_name, pre_file_path + file_name, f\"./{new_folder_path}/\" + f'{file_name}.txt'], capture_output=True, text=True)\n",
    "    print('stdout:', result.stdout)\n",
    "    print('stderr:', result.stderr)"
   ]
  },
  {
   "cell_type": "code",
   "execution_count": null,
   "metadata": {},
   "outputs": [],
   "source": []
  }
 ],
 "metadata": {
  "kernelspec": {
   "display_name": "Python 3",
   "language": "python",
   "name": "python3"
  },
  "language_info": {
   "codemirror_mode": {
    "name": "ipython",
    "version": 3
   },
   "file_extension": ".py",
   "mimetype": "text/x-python",
   "name": "python",
   "nbconvert_exporter": "python",
   "pygments_lexer": "ipython3",
   "version": "3.11.9"
  }
 },
 "nbformat": 4,
 "nbformat_minor": 2
}
